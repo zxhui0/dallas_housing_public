{
 "cells": [
  {
   "cell_type": "code",
   "execution_count": 1,
   "metadata": {},
   "outputs": [],
   "source": [
    "import pandas as pd\n",
    "import seaborn as sns\n",
    "import matplotlib.pyplot as plt\n",
    "%matplotlib inline"
   ]
  },
  {
   "cell_type": "markdown",
   "metadata": {},
   "source": [
    "## 1. Compile permits data"
   ]
  },
  {
   "cell_type": "code",
   "execution_count": 104,
   "metadata": {},
   "outputs": [],
   "source": [
    "p_16 = pd.read_csv('../data/permits/permit_2016.csv')\n",
    "p_17 = pd.read_csv('../data/permits/permit_2017.csv')\n",
    "p_18 = pd.read_csv('../data/permits/permit_2018.csv')\n",
    "p_19 = pd.read_csv('../data/permits/permit_2019.csv')\n",
    "p_20 = pd.read_csv('../data/permits/permit_2020_tillMay.csv')"
   ]
  },
  {
   "cell_type": "markdown",
   "metadata": {},
   "source": [
    "2020 data is different in format; match 2020 with previous years"
   ]
  },
  {
   "cell_type": "code",
   "execution_count": 105,
   "metadata": {},
   "outputs": [],
   "source": [
    "p_20.columns = ['Status', 'Score','Match_type','X', 'Y', 'PermitNum','Permit_Type','USER_Permit_Groups',\n",
    "               'PermitDate','Address','Zip_Code','Contractor','Value', 'Area', 'Work_Description','Land_Use',\n",
    "                'City','State','tract']"
   ]
  },
  {
   "cell_type": "code",
   "execution_count": 106,
   "metadata": {},
   "outputs": [],
   "source": [
    "p_20['PermitDate']= pd.to_datetime(p_20['PermitDate']) "
   ]
  },
  {
   "cell_type": "code",
   "execution_count": 107,
   "metadata": {},
   "outputs": [],
   "source": [
    "p_20['PermitYear'] = p_20['PermitDate'].dt.year"
   ]
  },
  {
   "cell_type": "markdown",
   "metadata": {},
   "source": [
    "Concat permits data across different years"
   ]
  },
  {
   "cell_type": "code",
   "execution_count": 108,
   "metadata": {},
   "outputs": [],
   "source": [
    "col_merge =  list(set(p_17.columns).intersection(set(p_20.columns)))"
   ]
  },
  {
   "cell_type": "code",
   "execution_count": 109,
   "metadata": {},
   "outputs": [],
   "source": [
    "permit_16_20 = pd.concat([p_16[col_merge],p_17[col_merge],p_18[col_merge],p_19[col_merge],p_20[col_merge]], axis = 0)"
   ]
  },
  {
   "cell_type": "code",
   "execution_count": 111,
   "metadata": {},
   "outputs": [],
   "source": [
    "permit_16_20.to_csv('../data/permits/permits_data_from_2016_to_202005.csv',index=False)"
   ]
  },
  {
   "cell_type": "code",
   "execution_count": 110,
   "metadata": {},
   "outputs": [
    {
     "data": {
      "text/html": [
       "<div>\n",
       "<style scoped>\n",
       "    .dataframe tbody tr th:only-of-type {\n",
       "        vertical-align: middle;\n",
       "    }\n",
       "\n",
       "    .dataframe tbody tr th {\n",
       "        vertical-align: top;\n",
       "    }\n",
       "\n",
       "    .dataframe thead th {\n",
       "        text-align: right;\n",
       "    }\n",
       "</style>\n",
       "<table border=\"1\" class=\"dataframe\">\n",
       "  <thead>\n",
       "    <tr style=\"text-align: right;\">\n",
       "      <th></th>\n",
       "      <th>Value</th>\n",
       "      <th>X</th>\n",
       "      <th>Permit_Type</th>\n",
       "      <th>Status</th>\n",
       "      <th>tract</th>\n",
       "      <th>PermitDate</th>\n",
       "      <th>Y</th>\n",
       "      <th>Area</th>\n",
       "      <th>Work_Description</th>\n",
       "      <th>Address</th>\n",
       "      <th>Contractor</th>\n",
       "      <th>Score</th>\n",
       "      <th>PermitNum</th>\n",
       "      <th>Land_Use</th>\n",
       "      <th>PermitYear</th>\n",
       "      <th>Zip_Code</th>\n",
       "    </tr>\n",
       "  </thead>\n",
       "  <tbody>\n",
       "    <tr>\n",
       "      <th>0</th>\n",
       "      <td>250.0</td>\n",
       "      <td>2.495071e+06</td>\n",
       "      <td>Backflow (BF) Commercial  Alteration</td>\n",
       "      <td>M</td>\n",
       "      <td>4.811300e+10</td>\n",
       "      <td>2016/11/29 00:00:00</td>\n",
       "      <td>6.987827e+06</td>\n",
       "      <td>NaN</td>\n",
       "      <td>BACKFLOW TEST(S)</td>\n",
       "      <td>4830 MCKINNEY AVE</td>\n",
       "      <td>DELUDE, CHERIE (469) 899-6050 150 EAST HIGHWAY...</td>\n",
       "      <td>90.92</td>\n",
       "      <td>1611295008</td>\n",
       "      <td>RESTAURANT WITHOUT DRIVE-IN SERVICE</td>\n",
       "      <td>2016</td>\n",
       "      <td>75205.0</td>\n",
       "    </tr>\n",
       "    <tr>\n",
       "      <th>1</th>\n",
       "      <td>NaN</td>\n",
       "      <td>2.492412e+06</td>\n",
       "      <td>Barricade (BA) Commercial  Alteration</td>\n",
       "      <td>M</td>\n",
       "      <td>4.811300e+10</td>\n",
       "      <td>2016/01/05 00:00:00</td>\n",
       "      <td>6.971517e+06</td>\n",
       "      <td>NaN</td>\n",
       "      <td>W30273 START 12/16/15@9AM END 2/16/16@4PM</td>\n",
       "      <td>1933 MAIN ST</td>\n",
       "      <td>SANDHU MANAGEMENT &amp; INVESTMENT (214) 881-9977 ...</td>\n",
       "      <td>90.92</td>\n",
       "      <td>1601041066</td>\n",
       "      <td>STREET BARRICADE</td>\n",
       "      <td>2016</td>\n",
       "      <td>75201.0</td>\n",
       "    </tr>\n",
       "    <tr>\n",
       "      <th>2</th>\n",
       "      <td>NaN</td>\n",
       "      <td>2.490124e+06</td>\n",
       "      <td>Barricade (BA) Commercial  Alteration</td>\n",
       "      <td>M</td>\n",
       "      <td>4.811300e+10</td>\n",
       "      <td>2016/01/06 00:00:00</td>\n",
       "      <td>6.977166e+06</td>\n",
       "      <td>NaN</td>\n",
       "      <td>W30361 START 10/31/15@7AM END4/30/16@7PM</td>\n",
       "      <td>2622 HOWLAND ST</td>\n",
       "      <td>HUNT CONSTRUCTION GROUP (972) 788-1000 4099 MC...</td>\n",
       "      <td>90.92</td>\n",
       "      <td>1601061053</td>\n",
       "      <td>SIDEWALK BARRICADE</td>\n",
       "      <td>2016</td>\n",
       "      <td>75204.0</td>\n",
       "    </tr>\n",
       "    <tr>\n",
       "      <th>3</th>\n",
       "      <td>NaN</td>\n",
       "      <td>2.490124e+06</td>\n",
       "      <td>Barricade (BA) Commercial  Alteration</td>\n",
       "      <td>M</td>\n",
       "      <td>4.811300e+10</td>\n",
       "      <td>2016/01/06 00:00:00</td>\n",
       "      <td>6.977166e+06</td>\n",
       "      <td>NaN</td>\n",
       "      <td>W30358 START 10/31/15@7AM END4/30/16@7PM</td>\n",
       "      <td>2622 HOWLAND ST</td>\n",
       "      <td>HUNT CONSTRUCTION GROUP (972) 788-1000 4099 MC...</td>\n",
       "      <td>90.92</td>\n",
       "      <td>1601061058</td>\n",
       "      <td>STREET BARRICADE</td>\n",
       "      <td>2016</td>\n",
       "      <td>75204.0</td>\n",
       "    </tr>\n",
       "    <tr>\n",
       "      <th>4</th>\n",
       "      <td>NaN</td>\n",
       "      <td>2.488839e+06</td>\n",
       "      <td>Barricade (BA) Commercial  Alteration</td>\n",
       "      <td>M</td>\n",
       "      <td>4.811300e+10</td>\n",
       "      <td>2016/01/05 00:00:00</td>\n",
       "      <td>6.971474e+06</td>\n",
       "      <td>NaN</td>\n",
       "      <td>W#30330 CLOSURE BEGINS 1/2/16 9AM ENDS 1/9/16 ...</td>\n",
       "      <td>1701 N MARKET ST Ste:110</td>\n",
       "      <td>MCLEAN MECHANICAL CONTRACTORS, INC (214) 823-7...</td>\n",
       "      <td>90.92</td>\n",
       "      <td>1601051051</td>\n",
       "      <td>STREET BARRICADE</td>\n",
       "      <td>2016</td>\n",
       "      <td>75202.0</td>\n",
       "    </tr>\n",
       "  </tbody>\n",
       "</table>\n",
       "</div>"
      ],
      "text/plain": [
       "   Value             X                            Permit_Type Status  \\\n",
       "0  250.0  2.495071e+06   Backflow (BF) Commercial  Alteration      M   \n",
       "1    NaN  2.492412e+06  Barricade (BA) Commercial  Alteration      M   \n",
       "2    NaN  2.490124e+06  Barricade (BA) Commercial  Alteration      M   \n",
       "3    NaN  2.490124e+06  Barricade (BA) Commercial  Alteration      M   \n",
       "4    NaN  2.488839e+06  Barricade (BA) Commercial  Alteration      M   \n",
       "\n",
       "          tract           PermitDate             Y  Area  \\\n",
       "0  4.811300e+10  2016/11/29 00:00:00  6.987827e+06   NaN   \n",
       "1  4.811300e+10  2016/01/05 00:00:00  6.971517e+06   NaN   \n",
       "2  4.811300e+10  2016/01/06 00:00:00  6.977166e+06   NaN   \n",
       "3  4.811300e+10  2016/01/06 00:00:00  6.977166e+06   NaN   \n",
       "4  4.811300e+10  2016/01/05 00:00:00  6.971474e+06   NaN   \n",
       "\n",
       "                                    Work_Description  \\\n",
       "0                                   BACKFLOW TEST(S)   \n",
       "1         W30273 START 12/16/15@9AM END 2/16/16@4PM    \n",
       "2           W30361 START 10/31/15@7AM END4/30/16@7PM   \n",
       "3           W30358 START 10/31/15@7AM END4/30/16@7PM   \n",
       "4  W#30330 CLOSURE BEGINS 1/2/16 9AM ENDS 1/9/16 ...   \n",
       "\n",
       "                    Address  \\\n",
       "0         4830 MCKINNEY AVE   \n",
       "1              1933 MAIN ST   \n",
       "2           2622 HOWLAND ST   \n",
       "3           2622 HOWLAND ST   \n",
       "4  1701 N MARKET ST Ste:110   \n",
       "\n",
       "                                          Contractor  Score   PermitNum  \\\n",
       "0  DELUDE, CHERIE (469) 899-6050 150 EAST HIGHWAY...  90.92  1611295008   \n",
       "1  SANDHU MANAGEMENT & INVESTMENT (214) 881-9977 ...  90.92  1601041066   \n",
       "2  HUNT CONSTRUCTION GROUP (972) 788-1000 4099 MC...  90.92  1601061053   \n",
       "3  HUNT CONSTRUCTION GROUP (972) 788-1000 4099 MC...  90.92  1601061058   \n",
       "4  MCLEAN MECHANICAL CONTRACTORS, INC (214) 823-7...  90.92  1601051051   \n",
       "\n",
       "                              Land_Use  PermitYear  Zip_Code  \n",
       "0  RESTAURANT WITHOUT DRIVE-IN SERVICE        2016   75205.0  \n",
       "1                     STREET BARRICADE        2016   75201.0  \n",
       "2                   SIDEWALK BARRICADE        2016   75204.0  \n",
       "3                     STREET BARRICADE        2016   75204.0  \n",
       "4                     STREET BARRICADE        2016   75202.0  "
      ]
     },
     "execution_count": 110,
     "metadata": {},
     "output_type": "execute_result"
    }
   ],
   "source": [
    "permit_16_20.head()"
   ]
  },
  {
   "cell_type": "markdown",
   "metadata": {},
   "source": [
    "### read permit"
   ]
  },
  {
   "cell_type": "markdown",
   "metadata": {},
   "source": [
    "Read permits data after addresses are normalized in R"
   ]
  },
  {
   "cell_type": "code",
   "execution_count": 3,
   "metadata": {},
   "outputs": [
    {
     "name": "stderr",
     "output_type": "stream",
     "text": [
      "/Users/tengye/anaconda3/lib/python3.7/site-packages/IPython/core/interactiveshell.py:3063: DtypeWarning: Columns (19) have mixed types.Specify dtype option on import or set low_memory=False.\n",
      "  interactivity=interactivity, compiler=compiler, result=result)\n"
     ]
    }
   ],
   "source": [
    "add_permit = pd.read_csv('../data/permits/permits_data_from_2017_to_202005_norm_address.csv')"
   ]
  },
  {
   "cell_type": "code",
   "execution_count": 3,
   "metadata": {},
   "outputs": [
    {
     "data": {
      "text/plain": [
       "Index(['tract', 'Contractor', 'Y', 'Address', 'PermitYear', 'Zip_Code',\n",
       "       'PermitDate', 'Score', 'Status', 'Permit_Type', 'Land_Use', 'PermitNum',\n",
       "       'Area', 'Work_Description', 'X', 'Value', 'originalDfAddress',\n",
       "       'dfStreetNumber', 'dfStreetName', 'dfApartmentNumber',\n",
       "       'treatedDfAddress'],\n",
       "      dtype='object')"
      ]
     },
     "execution_count": 3,
     "metadata": {},
     "output_type": "execute_result"
    }
   ],
   "source": [
    "add_permit.columns"
   ]
  },
  {
   "cell_type": "code",
   "execution_count": 4,
   "metadata": {},
   "outputs": [],
   "source": [
    "perm_cols = ['tract', 'PermitYear', 'Zip_Code','treatedDfAddress','Status'] #'PermitDate', #'Permit_Type', "
   ]
  },
  {
   "cell_type": "markdown",
   "metadata": {},
   "source": [
    "#### Without 2020 data"
   ]
  },
  {
   "cell_type": "code",
   "execution_count": 151,
   "metadata": {},
   "outputs": [],
   "source": [
    "add_permit_till_2019 = add_permit[add_permit.PermitDate<='2020-01-01']"
   ]
  },
  {
   "cell_type": "code",
   "execution_count": 152,
   "metadata": {},
   "outputs": [],
   "source": [
    "add_permit_till_2019_grp = add_permit_till_2019[perm_cols].groupby(['tract','PermitYear', 'Zip_Code','treatedDfAddress']).count().reset_index(\n",
    "                            ).rename(columns={'Status':'Permit_count'})"
   ]
  },
  {
   "cell_type": "code",
   "execution_count": 153,
   "metadata": {},
   "outputs": [],
   "source": [
    "add_permit_till_2019_grp['Year_permit'] = add_permit_till_2019_grp.PermitYear.apply(lambda x: int(str(x)[2:4]))"
   ]
  },
  {
   "cell_type": "code",
   "execution_count": 154,
   "metadata": {},
   "outputs": [],
   "source": [
    "add_permit_till_2019_grp['Year_permit_next_y'] = add_permit_till_2019_grp['Year_permit'] + 1"
   ]
  },
  {
   "cell_type": "markdown",
   "metadata": {},
   "source": [
    "#### With 2020 data updated"
   ]
  },
  {
   "cell_type": "code",
   "execution_count": 5,
   "metadata": {},
   "outputs": [],
   "source": [
    "add_permit_grp = add_permit[perm_cols].groupby(['tract','PermitYear', 'Zip_Code','treatedDfAddress']).count().reset_index(\n",
    "                            ).rename(columns={'Status':'Permit_count'})"
   ]
  },
  {
   "cell_type": "code",
   "execution_count": 7,
   "metadata": {},
   "outputs": [],
   "source": [
    "permit_16_20 = pd.read_csv('../data/permits/permits_data_from_2016_to_202005.csv')"
   ]
  },
  {
   "cell_type": "code",
   "execution_count": 8,
   "metadata": {},
   "outputs": [
    {
     "data": {
      "text/plain": [
       "Index(['Value', 'X', 'Permit_Type', 'Status', 'tract', 'PermitDate', 'Y',\n",
       "       'Area', 'Work_Description', 'Address', 'Contractor', 'Score',\n",
       "       'PermitNum', 'Land_Use', 'PermitYear', 'Zip_Code'],\n",
       "      dtype='object')"
      ]
     },
     "execution_count": 8,
     "metadata": {},
     "output_type": "execute_result"
    }
   ],
   "source": [
    "permit_16_20.columns"
   ]
  },
  {
   "cell_type": "code",
   "execution_count": 9,
   "metadata": {},
   "outputs": [],
   "source": [
    "## without normalized address\n",
    "perm_cols = ['tract', 'PermitYear', 'Zip_Code','Status']\n",
    "add_permit_grp = permit_16_20[perm_cols].groupby(['tract','PermitYear', 'Zip_Code']).count().reset_index(\n",
    "                            ).rename(columns={'Status':'Permit_count'})"
   ]
  },
  {
   "cell_type": "code",
   "execution_count": 10,
   "metadata": {},
   "outputs": [],
   "source": [
    "add_permit_grp['Year_permit'] = add_permit_grp.PermitYear.apply(lambda x: int(str(x)[2:4]))"
   ]
  },
  {
   "cell_type": "code",
   "execution_count": 11,
   "metadata": {},
   "outputs": [],
   "source": [
    "add_permit_grp['Year_permit_next_y'] = add_permit_grp['Year_permit'] + 1"
   ]
  },
  {
   "cell_type": "code",
   "execution_count": 12,
   "metadata": {},
   "outputs": [
    {
     "data": {
      "text/html": [
       "<div>\n",
       "<style scoped>\n",
       "    .dataframe tbody tr th:only-of-type {\n",
       "        vertical-align: middle;\n",
       "    }\n",
       "\n",
       "    .dataframe tbody tr th {\n",
       "        vertical-align: top;\n",
       "    }\n",
       "\n",
       "    .dataframe thead th {\n",
       "        text-align: right;\n",
       "    }\n",
       "</style>\n",
       "<table border=\"1\" class=\"dataframe\">\n",
       "  <thead>\n",
       "    <tr style=\"text-align: right;\">\n",
       "      <th></th>\n",
       "      <th>tract</th>\n",
       "      <th>PermitYear</th>\n",
       "      <th>Zip_Code</th>\n",
       "      <th>Permit_count</th>\n",
       "      <th>Year_permit</th>\n",
       "      <th>Year_permit_next_y</th>\n",
       "    </tr>\n",
       "  </thead>\n",
       "  <tbody>\n",
       "    <tr>\n",
       "      <th>0</th>\n",
       "      <td>4.811300e+10</td>\n",
       "      <td>2016</td>\n",
       "      <td>75214.0</td>\n",
       "      <td>353</td>\n",
       "      <td>16</td>\n",
       "      <td>17</td>\n",
       "    </tr>\n",
       "    <tr>\n",
       "      <th>1</th>\n",
       "      <td>4.811300e+10</td>\n",
       "      <td>2017</td>\n",
       "      <td>75214.0</td>\n",
       "      <td>337</td>\n",
       "      <td>17</td>\n",
       "      <td>18</td>\n",
       "    </tr>\n",
       "    <tr>\n",
       "      <th>2</th>\n",
       "      <td>4.811300e+10</td>\n",
       "      <td>2018</td>\n",
       "      <td>75214.0</td>\n",
       "      <td>272</td>\n",
       "      <td>18</td>\n",
       "      <td>19</td>\n",
       "    </tr>\n",
       "    <tr>\n",
       "      <th>3</th>\n",
       "      <td>4.811300e+10</td>\n",
       "      <td>2019</td>\n",
       "      <td>75214.0</td>\n",
       "      <td>118</td>\n",
       "      <td>19</td>\n",
       "      <td>20</td>\n",
       "    </tr>\n",
       "    <tr>\n",
       "      <th>4</th>\n",
       "      <td>4.811300e+10</td>\n",
       "      <td>2020</td>\n",
       "      <td>75214.0</td>\n",
       "      <td>20</td>\n",
       "      <td>20</td>\n",
       "      <td>21</td>\n",
       "    </tr>\n",
       "  </tbody>\n",
       "</table>\n",
       "</div>"
      ],
      "text/plain": [
       "          tract  PermitYear  Zip_Code  Permit_count  Year_permit  \\\n",
       "0  4.811300e+10        2016   75214.0           353           16   \n",
       "1  4.811300e+10        2017   75214.0           337           17   \n",
       "2  4.811300e+10        2018   75214.0           272           18   \n",
       "3  4.811300e+10        2019   75214.0           118           19   \n",
       "4  4.811300e+10        2020   75214.0            20           20   \n",
       "\n",
       "   Year_permit_next_y  \n",
       "0                  17  \n",
       "1                  18  \n",
       "2                  19  \n",
       "3                  20  \n",
       "4                  21  "
      ]
     },
     "execution_count": 12,
     "metadata": {},
     "output_type": "execute_result"
    }
   ],
   "source": [
    "add_permit_grp.head()"
   ]
  },
  {
   "cell_type": "markdown",
   "metadata": {},
   "source": [
    "## 2. Merge with eviction data"
   ]
  },
  {
   "cell_type": "code",
   "execution_count": 2,
   "metadata": {},
   "outputs": [],
   "source": [
    "# df_all = pd.read_csv('../data/clean/Evictions_wtract_norm_addr.csv')\n",
    "df_all = pd.read_csv('../data/clean/eviction_clean.csv')"
   ]
  },
  {
   "cell_type": "markdown",
   "metadata": {},
   "source": [
    "Normalize the address in eviction so that it matches those in Permits"
   ]
  },
  {
   "cell_type": "code",
   "execution_count": 26,
   "metadata": {},
   "outputs": [
    {
     "data": {
      "text/plain": [
       "0                      2321 beatrice street\n",
       "1                      116 east mimosa lane\n",
       "2                   1919 billie drive house\n",
       "3             1700 west polo road suite 114\n",
       "4         650 south walton walker boulevard\n",
       "                        ...                \n",
       "109169                 9505 brockbank drive\n",
       "109170                 9505 brockbank drive\n",
       "109171            9505 brockbank drive 3303\n",
       "109172                 9505 brockbank drive\n",
       "109173                     9494 larga drive\n",
       "Name: d.address, Length: 109174, dtype: object"
      ]
     },
     "execution_count": 26,
     "metadata": {},
     "output_type": "execute_result"
    }
   ],
   "source": [
    "df_all['d.address']"
   ]
  },
  {
   "cell_type": "code",
   "execution_count": 9,
   "metadata": {},
   "outputs": [],
   "source": [
    "def remove_apt(s):\n",
    "    return ' '.join(s.split(' ')[:-1]).rstrip() if s.split(' ')[-1].isdecimal() else s"
   ]
  },
  {
   "cell_type": "code",
   "execution_count": 10,
   "metadata": {},
   "outputs": [],
   "source": [
    "# df_all['Address_merge'] = df_all.treatedDfAddress.apply(lambda x: remove_apt(x.rstrip()))\n",
    "\n",
    "df_all['Address_merge'] = df_all['d.address'].apply(lambda x: remove_apt(x.rstrip()))"
   ]
  },
  {
   "cell_type": "code",
   "execution_count": null,
   "metadata": {},
   "outputs": [],
   "source": []
  },
  {
   "cell_type": "code",
   "execution_count": null,
   "metadata": {},
   "outputs": [],
   "source": []
  },
  {
   "cell_type": "markdown",
   "metadata": {},
   "source": [
    "## 2.1 Merge at address level\n",
    "ignore year"
   ]
  },
  {
   "cell_type": "code",
   "execution_count": 6,
   "metadata": {},
   "outputs": [],
   "source": [
    "df_mg = df_all.merge(add_permit_till_2019_grp[['tract','treatedDfAddress']].drop_duplicates(),left_on='Address_merge',right_on='treatedDfAddress',how='left').rename(\n",
    "        columns = {'treatedDfAddress_y':'treatedDfAddress_permit'})"
   ]
  },
  {
   "cell_type": "code",
   "execution_count": 13,
   "metadata": {},
   "outputs": [],
   "source": [
    "df_mg = df_all.merge(add_permit_grp[['tract','treatedDfAddress']].drop_duplicates(),left_on='Address_merge',right_on='treatedDfAddress',how='left').rename(\n",
    "        columns = {'treatedDfAddress_y':'treatedDfAddress_permit'})"
   ]
  },
  {
   "cell_type": "code",
   "execution_count": null,
   "metadata": {},
   "outputs": [],
   "source": [
    "df_mg"
   ]
  },
  {
   "cell_type": "code",
   "execution_count": 156,
   "metadata": {},
   "outputs": [
    {
     "data": {
      "text/plain": [
       "0.22240304044151094"
      ]
     },
     "execution_count": 156,
     "metadata": {},
     "output_type": "execute_result"
    }
   ],
   "source": [
    "df_mg[df_mg.treatedDfAddress_permit.notnull()].shape[0]/df_mg.shape[0]"
   ]
  },
  {
   "cell_type": "code",
   "execution_count": 161,
   "metadata": {},
   "outputs": [],
   "source": [
    "addr_list =  df_mg[df_mg.treatedDfAddress_permit.notnull()].treatedDfAddress_permit.to_list()"
   ]
  },
  {
   "cell_type": "code",
   "execution_count": 174,
   "metadata": {},
   "outputs": [],
   "source": [
    "permit_type = add_permit_till_2019[add_permit_till_2019.treatedDfAddress.isin(addr_list)][['Permit_Type','tract']\n",
    "                    ].groupby('Permit_Type').count().reset_index().rename(columns={'tract':'Count'})"
   ]
  },
  {
   "cell_type": "markdown",
   "metadata": {},
   "source": [
    "Descriptives of permits that are associated with evictions"
   ]
  },
  {
   "cell_type": "code",
   "execution_count": 179,
   "metadata": {},
   "outputs": [],
   "source": [
    "total = permit_type.Count.sum()\n",
    "permit_type_plot = permit_type.sort_values('Count',ascending=False).iloc[:10]\n",
    "permit_type_plot['Percentage'] = permit_type_plot.Count/float(total)"
   ]
  },
  {
   "cell_type": "code",
   "execution_count": 208,
   "metadata": {},
   "outputs": [
    {
     "data": {
      "image/png": "[encoded data removed]",
      "text/plain": [
       "<Figure size 432x288 with 1 Axes>"
      ]
     },
     "metadata": {},
     "output_type": "display_data"
    }
   ],
   "source": [
    "sns.set(font_scale = 1.5)\n",
    "sns.set_style(\"white\")\n",
    "\n",
    "ax = sns.barplot(x='Percentage', y='Permit_Type', data=permit_type_plot,color='#04879E')\n",
    "ax.set_xlabel('Percentage')\n",
    "# ax.set_yticks(size=12)\n",
    "ax.set_ylabel('Top 10 Permit Type')\n",
    "# plt.tight_layout()\n",
    "ax.get_figure().savefig(\"../figures/top_10_permit.png\", bbox_inches = \"tight\", dpi=500)"
   ]
  },
  {
   "cell_type": "code",
   "execution_count": 207,
   "metadata": {},
   "outputs": [
    {
     "data": {
      "image/png": "[encoded data removed]",
      "text/plain": [
       "<Figure size 432x288 with 1 Axes>"
      ]
     },
     "metadata": {},
     "output_type": "display_data"
    }
   ],
   "source": [
    "sns.set(font_scale = 1.5)\n",
    "sns.set_style(\"white\")\n",
    "\n",
    "ax = sns.barplot(x='Count', y='Permit_Type', data=permit_type.sort_values('Count').iloc[:10],color='#04879E')\n",
    "# ax.set_xlabel('Percentage')\n",
    "# ax.set_yticks(size=12)\n",
    "ax.set_ylabel('Top 10 Permit Type')\n",
    "ax.yaxis.tick_right()\n",
    "ax.get_figure().savefig(\"../figures/once_permit.png\", bbox_inches = \"tight\", dpi=500)"
   ]
  },
  {
   "cell_type": "markdown",
   "metadata": {},
   "source": [
    "merge eviction with previous-year permits"
   ]
  },
  {
   "cell_type": "code",
   "execution_count": 133,
   "metadata": {},
   "outputs": [],
   "source": [
    "df_mg_prev_year = df_all.merge(add_permit_till_2019_grp[['tract','treatedDfAddress','Year_permit_next_y']].drop_duplicates(),\n",
    "                               left_on=['Address_merge','Year_Filed'],\n",
    "                               right_on=['treatedDfAddress','Year_permit_next_y'],how='left').rename(\n",
    "        columns = {'treatedDfAddress_y':'treatedDfAddress_permit'})"
   ]
  },
  {
   "cell_type": "code",
   "execution_count": 158,
   "metadata": {},
   "outputs": [
    {
     "data": {
      "text/plain": [
       "0.08447130886559591"
      ]
     },
     "execution_count": 158,
     "metadata": {},
     "output_type": "execute_result"
    }
   ],
   "source": [
    "df_mg_prev_year[df_mg_prev_year.treatedDfAddress_permit.notnull()].shape[0]/df_mg.shape[0]"
   ]
  },
  {
   "cell_type": "markdown",
   "metadata": {},
   "source": [
    "With 2020"
   ]
  },
  {
   "cell_type": "code",
   "execution_count": 30,
   "metadata": {},
   "outputs": [
    {
     "data": {
      "text/html": [
       "<div>\n",
       "<style scoped>\n",
       "    .dataframe tbody tr th:only-of-type {\n",
       "        vertical-align: middle;\n",
       "    }\n",
       "\n",
       "    .dataframe tbody tr th {\n",
       "        vertical-align: top;\n",
       "    }\n",
       "\n",
       "    .dataframe thead th {\n",
       "        text-align: right;\n",
       "    }\n",
       "</style>\n",
       "<table border=\"1\" class=\"dataframe\">\n",
       "  <thead>\n",
       "    <tr style=\"text-align: right;\">\n",
       "      <th></th>\n",
       "      <th>p.name</th>\n",
       "      <th>d.address</th>\n",
       "      <th>d.city</th>\n",
       "      <th>d.state</th>\n",
       "      <th>d.zip</th>\n",
       "      <th>case</th>\n",
       "      <th>court</th>\n",
       "      <th>date.filed</th>\n",
       "      <th>year.filed</th>\n",
       "      <th>month.filed</th>\n",
       "      <th>...</th>\n",
       "      <th>d.white.perc</th>\n",
       "      <th>d.black.perc</th>\n",
       "      <th>d.hisp.perc</th>\n",
       "      <th>d.asian.perc</th>\n",
       "      <th>d.other.perc</th>\n",
       "      <th>p.clean.name</th>\n",
       "      <th>Address_merge</th>\n",
       "      <th>tract_y</th>\n",
       "      <th>treatedDfAddress</th>\n",
       "      <th>Year_permit_next_y</th>\n",
       "    </tr>\n",
       "  </thead>\n",
       "  <tbody>\n",
       "    <tr>\n",
       "      <th>0</th>\n",
       "      <td>7481.0</td>\n",
       "      <td>2321 beatrice street</td>\n",
       "      <td>dallas</td>\n",
       "      <td>TX</td>\n",
       "      <td>75208</td>\n",
       "      <td>1951829P</td>\n",
       "      <td>52</td>\n",
       "      <td>190506</td>\n",
       "      <td>19</td>\n",
       "      <td>5</td>\n",
       "      <td>...</td>\n",
       "      <td>0.154550</td>\n",
       "      <td>0.157473</td>\n",
       "      <td>0.622343</td>\n",
       "      <td>0.043234</td>\n",
       "      <td>0.022399</td>\n",
       "      <td>NaN</td>\n",
       "      <td>2321 beatrice street</td>\n",
       "      <td>NaN</td>\n",
       "      <td>NaN</td>\n",
       "      <td>NaN</td>\n",
       "    </tr>\n",
       "    <tr>\n",
       "      <th>1</th>\n",
       "      <td>7796.0</td>\n",
       "      <td>116 east mimosa lane</td>\n",
       "      <td>mesquite</td>\n",
       "      <td>TX</td>\n",
       "      <td>75149</td>\n",
       "      <td>1800587D</td>\n",
       "      <td>21</td>\n",
       "      <td>180409</td>\n",
       "      <td>18</td>\n",
       "      <td>4</td>\n",
       "      <td>...</td>\n",
       "      <td>0.544564</td>\n",
       "      <td>0.165324</td>\n",
       "      <td>0.084208</td>\n",
       "      <td>0.161289</td>\n",
       "      <td>0.044615</td>\n",
       "      <td>NaN</td>\n",
       "      <td>116 east mimosa lane</td>\n",
       "      <td>NaN</td>\n",
       "      <td>NaN</td>\n",
       "      <td>NaN</td>\n",
       "    </tr>\n",
       "    <tr>\n",
       "      <th>2</th>\n",
       "      <td>5309.0</td>\n",
       "      <td>1919 billie drive house</td>\n",
       "      <td>dallas</td>\n",
       "      <td>TX</td>\n",
       "      <td>75232</td>\n",
       "      <td>2050672P</td>\n",
       "      <td>52</td>\n",
       "      <td>200207</td>\n",
       "      <td>20</td>\n",
       "      <td>2</td>\n",
       "      <td>...</td>\n",
       "      <td>0.053344</td>\n",
       "      <td>0.889651</td>\n",
       "      <td>0.023956</td>\n",
       "      <td>0.003056</td>\n",
       "      <td>0.029993</td>\n",
       "      <td>NaN</td>\n",
       "      <td>1919 billie drive house</td>\n",
       "      <td>NaN</td>\n",
       "      <td>NaN</td>\n",
       "      <td>NaN</td>\n",
       "    </tr>\n",
       "    <tr>\n",
       "      <th>3</th>\n",
       "      <td>7239.0</td>\n",
       "      <td>1700 west polo road suite 114</td>\n",
       "      <td>grand prairie</td>\n",
       "      <td>TX</td>\n",
       "      <td>75052</td>\n",
       "      <td>1801436G</td>\n",
       "      <td>41</td>\n",
       "      <td>180612</td>\n",
       "      <td>18</td>\n",
       "      <td>6</td>\n",
       "      <td>...</td>\n",
       "      <td>0.529565</td>\n",
       "      <td>0.148213</td>\n",
       "      <td>0.101105</td>\n",
       "      <td>0.181662</td>\n",
       "      <td>0.039455</td>\n",
       "      <td>NaN</td>\n",
       "      <td>1700 west polo road suite</td>\n",
       "      <td>NaN</td>\n",
       "      <td>NaN</td>\n",
       "      <td>NaN</td>\n",
       "    </tr>\n",
       "    <tr>\n",
       "      <th>4</th>\n",
       "      <td>886.0</td>\n",
       "      <td>650 south walton walker boulevard</td>\n",
       "      <td>dallas</td>\n",
       "      <td>TX</td>\n",
       "      <td>75211</td>\n",
       "      <td>1850858P</td>\n",
       "      <td>52</td>\n",
       "      <td>180227</td>\n",
       "      <td>18</td>\n",
       "      <td>2</td>\n",
       "      <td>...</td>\n",
       "      <td>0.142224</td>\n",
       "      <td>0.292210</td>\n",
       "      <td>0.461607</td>\n",
       "      <td>0.074783</td>\n",
       "      <td>0.029175</td>\n",
       "      <td>NaN</td>\n",
       "      <td>650 south walton walker boulevard</td>\n",
       "      <td>NaN</td>\n",
       "      <td>NaN</td>\n",
       "      <td>NaN</td>\n",
       "    </tr>\n",
       "  </tbody>\n",
       "</table>\n",
       "<p>5 rows × 43 columns</p>\n",
       "</div>"
      ],
      "text/plain": [
       "   p.name                          d.address         d.city d.state  d.zip  \\\n",
       "0  7481.0               2321 beatrice street         dallas      TX  75208   \n",
       "1  7796.0               116 east mimosa lane       mesquite      TX  75149   \n",
       "2  5309.0            1919 billie drive house         dallas      TX  75232   \n",
       "3  7239.0      1700 west polo road suite 114  grand prairie      TX  75052   \n",
       "4   886.0  650 south walton walker boulevard         dallas      TX  75211   \n",
       "\n",
       "       case  court  date.filed  year.filed  month.filed  ...  d.white.perc  \\\n",
       "0  1951829P     52      190506          19            5  ...      0.154550   \n",
       "1  1800587D     21      180409          18            4  ...      0.544564   \n",
       "2  2050672P     52      200207          20            2  ...      0.053344   \n",
       "3  1801436G     41      180612          18            6  ...      0.529565   \n",
       "4  1850858P     52      180227          18            2  ...      0.142224   \n",
       "\n",
       "   d.black.perc  d.hisp.perc d.asian.perc  d.other.perc p.clean.name  \\\n",
       "0      0.157473     0.622343     0.043234      0.022399          NaN   \n",
       "1      0.165324     0.084208     0.161289      0.044615          NaN   \n",
       "2      0.889651     0.023956     0.003056      0.029993          NaN   \n",
       "3      0.148213     0.101105     0.181662      0.039455          NaN   \n",
       "4      0.292210     0.461607     0.074783      0.029175          NaN   \n",
       "\n",
       "                       Address_merge tract_y treatedDfAddress  \\\n",
       "0               2321 beatrice street     NaN              NaN   \n",
       "1               116 east mimosa lane     NaN              NaN   \n",
       "2            1919 billie drive house     NaN              NaN   \n",
       "3          1700 west polo road suite     NaN              NaN   \n",
       "4  650 south walton walker boulevard     NaN              NaN   \n",
       "\n",
       "  Year_permit_next_y  \n",
       "0                NaN  \n",
       "1                NaN  \n",
       "2                NaN  \n",
       "3                NaN  \n",
       "4                NaN  \n",
       "\n",
       "[5 rows x 43 columns]"
      ]
     },
     "execution_count": 30,
     "metadata": {},
     "output_type": "execute_result"
    }
   ],
   "source": [
    "df_mg_prev_year_2020.head()"
   ]
  },
  {
   "cell_type": "markdown",
   "metadata": {},
   "source": [
    "## Same year"
   ]
  },
  {
   "cell_type": "code",
   "execution_count": 159,
   "metadata": {},
   "outputs": [],
   "source": [
    "df_mg_same_year = df_all.merge(add_permit_till_2019_grp[['tract','treatedDfAddress','Year_permit']].drop_duplicates(),\n",
    "                               left_on=['Address_merge','Year_Filed'],\n",
    "                               right_on=['treatedDfAddress','Year_permit'],how='left').rename(\n",
    "        columns = {'treatedDfAddress_y':'treatedDfAddress_permit'})"
   ]
  },
  {
   "cell_type": "code",
   "execution_count": 160,
   "metadata": {},
   "outputs": [
    {
     "data": {
      "text/plain": [
       "0.11670524496376336"
      ]
     },
     "execution_count": 160,
     "metadata": {},
     "output_type": "execute_result"
    }
   ],
   "source": [
    "df_mg_same_year[df_mg_same_year.treatedDfAddress_permit.notnull()].shape[0]/df_mg.shape[0]"
   ]
  },
  {
   "cell_type": "markdown",
   "metadata": {},
   "source": [
    "## 2.2 Tract level"
   ]
  },
  {
   "cell_type": "code",
   "execution_count": 13,
   "metadata": {},
   "outputs": [],
   "source": [
    "g_cols = ['tract','Year_permit','Year_permit_next_y','Permit_count']\n",
    "add_permit_tract = add_permit_grp[g_cols].groupby(['tract','Year_permit','Year_permit_next_y']).sum().reset_index()\n"
   ]
  },
  {
   "cell_type": "code",
   "execution_count": 14,
   "metadata": {},
   "outputs": [
    {
     "data": {
      "text/html": [
       "<div>\n",
       "<style scoped>\n",
       "    .dataframe tbody tr th:only-of-type {\n",
       "        vertical-align: middle;\n",
       "    }\n",
       "\n",
       "    .dataframe tbody tr th {\n",
       "        vertical-align: top;\n",
       "    }\n",
       "\n",
       "    .dataframe thead th {\n",
       "        text-align: right;\n",
       "    }\n",
       "</style>\n",
       "<table border=\"1\" class=\"dataframe\">\n",
       "  <thead>\n",
       "    <tr style=\"text-align: right;\">\n",
       "      <th></th>\n",
       "      <th>tract</th>\n",
       "      <th>Year_permit</th>\n",
       "      <th>Year_permit_next_y</th>\n",
       "      <th>Permit_count</th>\n",
       "    </tr>\n",
       "  </thead>\n",
       "  <tbody>\n",
       "    <tr>\n",
       "      <th>0</th>\n",
       "      <td>4.811300e+10</td>\n",
       "      <td>16</td>\n",
       "      <td>17</td>\n",
       "      <td>353</td>\n",
       "    </tr>\n",
       "    <tr>\n",
       "      <th>1</th>\n",
       "      <td>4.811300e+10</td>\n",
       "      <td>17</td>\n",
       "      <td>18</td>\n",
       "      <td>337</td>\n",
       "    </tr>\n",
       "    <tr>\n",
       "      <th>2</th>\n",
       "      <td>4.811300e+10</td>\n",
       "      <td>18</td>\n",
       "      <td>19</td>\n",
       "      <td>272</td>\n",
       "    </tr>\n",
       "    <tr>\n",
       "      <th>3</th>\n",
       "      <td>4.811300e+10</td>\n",
       "      <td>19</td>\n",
       "      <td>20</td>\n",
       "      <td>118</td>\n",
       "    </tr>\n",
       "    <tr>\n",
       "      <th>4</th>\n",
       "      <td>4.811300e+10</td>\n",
       "      <td>20</td>\n",
       "      <td>21</td>\n",
       "      <td>20</td>\n",
       "    </tr>\n",
       "  </tbody>\n",
       "</table>\n",
       "</div>"
      ],
      "text/plain": [
       "          tract  Year_permit  Year_permit_next_y  Permit_count\n",
       "0  4.811300e+10           16                  17           353\n",
       "1  4.811300e+10           17                  18           337\n",
       "2  4.811300e+10           18                  19           272\n",
       "3  4.811300e+10           19                  20           118\n",
       "4  4.811300e+10           20                  21            20"
      ]
     },
     "execution_count": 14,
     "metadata": {},
     "output_type": "execute_result"
    }
   ],
   "source": [
    "add_permit_tract.head()"
   ]
  },
  {
   "cell_type": "markdown",
   "metadata": {},
   "source": [
    "#### Panel"
   ]
  },
  {
   "cell_type": "code",
   "execution_count": 2,
   "metadata": {},
   "outputs": [],
   "source": [
    "df_panel = pd.read_csv('../data/clean/evictions_panel.csv')"
   ]
  },
  {
   "cell_type": "code",
   "execution_count": 55,
   "metadata": {},
   "outputs": [
    {
     "data": {
      "text/plain": [
       "Index(['Unnamed: 0', 'tract', 'year', 'judgements', 'evictions', 'amount',\n",
       "       'evicted_white', 'evicted_black', 'evicted_hisp', 'evicted_asian',\n",
       "       'evicted_other', 'total_pop', 'white_pop', 'black_pop', 'native_pop',\n",
       "       'asian_pop', 'pacific_pop', 'other_pop', 'two_race_pop', 'tot_housing',\n",
       "       'rental_vacancy', 'median_rent', 'owner_occ', 'renter_occ',\n",
       "       'perc_rent_gt_35', 'single_fathers', 'single_mothers',\n",
       "       'perc_snap_benefits', 'perc_poverty_line', 'unemployment_rate',\n",
       "       'perc_insured', 'median_income', 'evictions_pc', 'evictions_pu',\n",
       "       'perc_rental'],\n",
       "      dtype='object')"
      ]
     },
     "execution_count": 55,
     "metadata": {},
     "output_type": "execute_result"
    }
   ],
   "source": [
    "df_panel.columns"
   ]
  },
  {
   "cell_type": "markdown",
   "metadata": {},
   "source": [
    "Add permits"
   ]
  },
  {
   "cell_type": "code",
   "execution_count": 17,
   "metadata": {},
   "outputs": [],
   "source": [
    "add_permit_tract['tract'] = add_permit_tract.tract.astype(int)"
   ]
  },
  {
   "cell_type": "code",
   "execution_count": 18,
   "metadata": {},
   "outputs": [],
   "source": [
    "df_panel['year_two_d'] = df_panel['year'].apply(lambda x: int(str(x)[2:4]))"
   ]
  },
  {
   "cell_type": "code",
   "execution_count": 16,
   "metadata": {},
   "outputs": [],
   "source": [
    "# add_permit_tract.drop(columns='Year_permit_next_y').to_csv('../data/clean/permits_tract.csv',index=False)\n",
    "add_permit_tract.to_csv('../data/clean/add_permit_tract.csv',index=False)"
   ]
  },
  {
   "cell_type": "code",
   "execution_count": 19,
   "metadata": {},
   "outputs": [],
   "source": [
    "# df_panel_permits = df_panel.merge(add_permit_tract[['tract','Year_permit_next_y','Permit_count']],\n",
    "#                                left_on=['tract','year_two_d'],\n",
    "#                                right_on=['tract','Year_permit_next_y'],how='left').rename(\n",
    "#         columns = {'Permit_count':'Permit_count_prev_year'})"
   ]
  },
  {
   "cell_type": "code",
   "execution_count": 20,
   "metadata": {},
   "outputs": [],
   "source": [
    "df_panel_permits = df_panel_permits.merge(add_permit_tract[['tract','Year_permit','Permit_count']],\n",
    "                               left_on=['tract','year_two_d'],\n",
    "                               right_on=['tract','Year_permit'],how='left').rename(\n",
    "        columns = {'Permit_count':'Permit_count_this_year'}\n",
    "        ).drop(columns = ['Year_permit_next_y','Year_permit','year_two_d'])"
   ]
  },
  {
   "cell_type": "code",
   "execution_count": 21,
   "metadata": {},
   "outputs": [
    {
     "data": {
      "text/html": [
       "<div>\n",
       "<style scoped>\n",
       "    .dataframe tbody tr th:only-of-type {\n",
       "        vertical-align: middle;\n",
       "    }\n",
       "\n",
       "    .dataframe tbody tr th {\n",
       "        vertical-align: top;\n",
       "    }\n",
       "\n",
       "    .dataframe thead th {\n",
       "        text-align: right;\n",
       "    }\n",
       "</style>\n",
       "<table border=\"1\" class=\"dataframe\">\n",
       "  <thead>\n",
       "    <tr style=\"text-align: right;\">\n",
       "      <th></th>\n",
       "      <th>Unnamed: 0</th>\n",
       "      <th>tract</th>\n",
       "      <th>year</th>\n",
       "      <th>judgements</th>\n",
       "      <th>evictions</th>\n",
       "      <th>amount</th>\n",
       "      <th>evicted_white</th>\n",
       "      <th>evicted_black</th>\n",
       "      <th>evicted_hisp</th>\n",
       "      <th>evicted_asian</th>\n",
       "      <th>...</th>\n",
       "      <th>perc_snap_benefits</th>\n",
       "      <th>perc_poverty_line</th>\n",
       "      <th>unemployment_rate</th>\n",
       "      <th>perc_insured</th>\n",
       "      <th>median_income</th>\n",
       "      <th>evictions_pc</th>\n",
       "      <th>evictions_pu</th>\n",
       "      <th>perc_rental</th>\n",
       "      <th>Permit_count_prev_year</th>\n",
       "      <th>Permit_count_this_year</th>\n",
       "    </tr>\n",
       "  </thead>\n",
       "  <tbody>\n",
       "    <tr>\n",
       "      <th>0</th>\n",
       "      <td>1</td>\n",
       "      <td>48113000100</td>\n",
       "      <td>2017</td>\n",
       "      <td>31</td>\n",
       "      <td>31</td>\n",
       "      <td>1812.308421</td>\n",
       "      <td>26.076330</td>\n",
       "      <td>0.664677</td>\n",
       "      <td>3.322692</td>\n",
       "      <td>0.337228</td>\n",
       "      <td>...</td>\n",
       "      <td>1.6</td>\n",
       "      <td>NaN</td>\n",
       "      <td>4.4</td>\n",
       "      <td>94.8</td>\n",
       "      <td>97679</td>\n",
       "      <td>0.007846</td>\n",
       "      <td>0.047988</td>\n",
       "      <td>0.352428</td>\n",
       "      <td>353.0</td>\n",
       "      <td>337.0</td>\n",
       "    </tr>\n",
       "    <tr>\n",
       "      <th>1</th>\n",
       "      <td>2</td>\n",
       "      <td>48113000100</td>\n",
       "      <td>2018</td>\n",
       "      <td>15</td>\n",
       "      <td>19</td>\n",
       "      <td>2028.928333</td>\n",
       "      <td>13.616015</td>\n",
       "      <td>2.497810</td>\n",
       "      <td>1.587126</td>\n",
       "      <td>0.861060</td>\n",
       "      <td>...</td>\n",
       "      <td>1.0</td>\n",
       "      <td>NaN</td>\n",
       "      <td>3.8</td>\n",
       "      <td>94.7</td>\n",
       "      <td>103214</td>\n",
       "      <td>0.004656</td>\n",
       "      <td>0.026648</td>\n",
       "      <td>0.376850</td>\n",
       "      <td>337.0</td>\n",
       "      <td>272.0</td>\n",
       "    </tr>\n",
       "    <tr>\n",
       "      <th>2</th>\n",
       "      <td>3</td>\n",
       "      <td>48113000100</td>\n",
       "      <td>2019</td>\n",
       "      <td>13</td>\n",
       "      <td>17</td>\n",
       "      <td>1818.310000</td>\n",
       "      <td>14.081011</td>\n",
       "      <td>0.712082</td>\n",
       "      <td>1.777414</td>\n",
       "      <td>0.028224</td>\n",
       "      <td>...</td>\n",
       "      <td>0.5</td>\n",
       "      <td>1.2</td>\n",
       "      <td>3.7</td>\n",
       "      <td>96.9</td>\n",
       "      <td>112368</td>\n",
       "      <td>0.004141</td>\n",
       "      <td>0.025148</td>\n",
       "      <td>0.360341</td>\n",
       "      <td>272.0</td>\n",
       "      <td>118.0</td>\n",
       "    </tr>\n",
       "    <tr>\n",
       "      <th>3</th>\n",
       "      <td>4</td>\n",
       "      <td>48113000100</td>\n",
       "      <td>2020</td>\n",
       "      <td>14</td>\n",
       "      <td>14</td>\n",
       "      <td>1199.708182</td>\n",
       "      <td>9.647780</td>\n",
       "      <td>2.185291</td>\n",
       "      <td>1.625310</td>\n",
       "      <td>0.146603</td>\n",
       "      <td>...</td>\n",
       "      <td>0.5</td>\n",
       "      <td>1.2</td>\n",
       "      <td>2.4</td>\n",
       "      <td>97.6</td>\n",
       "      <td>114306</td>\n",
       "      <td>0.003556</td>\n",
       "      <td>0.017722</td>\n",
       "      <td>0.427258</td>\n",
       "      <td>118.0</td>\n",
       "      <td>20.0</td>\n",
       "    </tr>\n",
       "    <tr>\n",
       "      <th>4</th>\n",
       "      <td>5</td>\n",
       "      <td>48113000201</td>\n",
       "      <td>2017</td>\n",
       "      <td>2</td>\n",
       "      <td>2</td>\n",
       "      <td>1964.755000</td>\n",
       "      <td>1.938821</td>\n",
       "      <td>0.012981</td>\n",
       "      <td>0.006560</td>\n",
       "      <td>0.008454</td>\n",
       "      <td>...</td>\n",
       "      <td>0.4</td>\n",
       "      <td>NaN</td>\n",
       "      <td>1.7</td>\n",
       "      <td>88.4</td>\n",
       "      <td>89605</td>\n",
       "      <td>0.000688</td>\n",
       "      <td>0.005587</td>\n",
       "      <td>0.252468</td>\n",
       "      <td>270.0</td>\n",
       "      <td>216.0</td>\n",
       "    </tr>\n",
       "  </tbody>\n",
       "</table>\n",
       "<p>5 rows × 37 columns</p>\n",
       "</div>"
      ],
      "text/plain": [
       "   Unnamed: 0        tract  year  judgements  evictions       amount  \\\n",
       "0           1  48113000100  2017          31         31  1812.308421   \n",
       "1           2  48113000100  2018          15         19  2028.928333   \n",
       "2           3  48113000100  2019          13         17  1818.310000   \n",
       "3           4  48113000100  2020          14         14  1199.708182   \n",
       "4           5  48113000201  2017           2          2  1964.755000   \n",
       "\n",
       "   evicted_white  evicted_black  evicted_hisp  evicted_asian  ...  \\\n",
       "0      26.076330       0.664677      3.322692       0.337228  ...   \n",
       "1      13.616015       2.497810      1.587126       0.861060  ...   \n",
       "2      14.081011       0.712082      1.777414       0.028224  ...   \n",
       "3       9.647780       2.185291      1.625310       0.146603  ...   \n",
       "4       1.938821       0.012981      0.006560       0.008454  ...   \n",
       "\n",
       "   perc_snap_benefits  perc_poverty_line  unemployment_rate  perc_insured  \\\n",
       "0                 1.6                NaN                4.4          94.8   \n",
       "1                 1.0                NaN                3.8          94.7   \n",
       "2                 0.5                1.2                3.7          96.9   \n",
       "3                 0.5                1.2                2.4          97.6   \n",
       "4                 0.4                NaN                1.7          88.4   \n",
       "\n",
       "   median_income  evictions_pc  evictions_pu  perc_rental  \\\n",
       "0          97679      0.007846      0.047988     0.352428   \n",
       "1         103214      0.004656      0.026648     0.376850   \n",
       "2         112368      0.004141      0.025148     0.360341   \n",
       "3         114306      0.003556      0.017722     0.427258   \n",
       "4          89605      0.000688      0.005587     0.252468   \n",
       "\n",
       "   Permit_count_prev_year  Permit_count_this_year  \n",
       "0                   353.0                   337.0  \n",
       "1                   337.0                   272.0  \n",
       "2                   272.0                   118.0  \n",
       "3                   118.0                    20.0  \n",
       "4                   270.0                   216.0  \n",
       "\n",
       "[5 rows x 37 columns]"
      ]
     },
     "execution_count": 21,
     "metadata": {},
     "output_type": "execute_result"
    }
   ],
   "source": [
    "df_panel_permits.head()"
   ]
  },
  {
   "cell_type": "code",
   "execution_count": null,
   "metadata": {},
   "outputs": [],
   "source": []
  },
  {
   "cell_type": "code",
   "execution_count": 139,
   "metadata": {},
   "outputs": [
    {
     "data": {
      "image/png": "[encoded data removed]",
      "text/plain": [
       "<Figure size 432x288 with 1 Axes>"
      ]
     },
     "metadata": {
      "needs_background": "light"
     },
     "output_type": "display_data"
    }
   ],
   "source": [
    "## df_2017 is generated in the correlational analysis part\n",
    "ax = sns.regplot(x='Permit_count_prev_year',y='evictions_pc',data = df_2017,x_bins=15,fit_reg=False)\n",
    "ax.set_title('Bin-bin plot between number of permits\\nin the previous year and eviction rate',size=20)\n",
    "ax.get_figure().savefig(\"../figures/bin_bin_permits.png\",dpi = 500, bbox_inches = 'tight')"
   ]
  },
  {
   "cell_type": "markdown",
   "metadata": {},
   "source": [
    "Add mobility"
   ]
  },
  {
   "cell_type": "code",
   "execution_count": 22,
   "metadata": {},
   "outputs": [],
   "source": [
    "mob = pd.read_csv('../data/clean/mobility_tract_level.csv',sep=';')"
   ]
  },
  {
   "cell_type": "code",
   "execution_count": 23,
   "metadata": {},
   "outputs": [],
   "source": [
    "mob['tract_level_mobility_rate'] = mob['mobile_students_numer']/mob['all_students']"
   ]
  },
  {
   "cell_type": "code",
   "execution_count": 24,
   "metadata": {},
   "outputs": [],
   "source": [
    "mob['mobility_rate'] = mob['mobile_students_numer']/mob['mobile_students__denom']"
   ]
  },
  {
   "cell_type": "code",
   "execution_count": 25,
   "metadata": {},
   "outputs": [],
   "source": [
    "mob.rename(columns={'tractid':'tract'},inplace=True)"
   ]
  },
  {
   "cell_type": "code",
   "execution_count": 26,
   "metadata": {},
   "outputs": [],
   "source": [
    "df_tract = df_panel_permits.merge(mob[['tract','mobility_rate']],how='left',on='tract')"
   ]
  },
  {
   "cell_type": "code",
   "execution_count": 4,
   "metadata": {},
   "outputs": [],
   "source": [
    "df_tract.to_csv('../data/clean/tract_level_all_panel.csv',index=False)"
   ]
  },
  {
   "cell_type": "markdown",
   "metadata": {},
   "source": [
    "#### Appendix: address level Permits data additionals"
   ]
  },
  {
   "cell_type": "code",
   "execution_count": 37,
   "metadata": {},
   "outputs": [],
   "source": [
    "g_cols = ['tract','Year_permit','Year_permit_next_y','Permit_count']\n",
    "add_permit_tract = add_permit_grp[g_cols].groupby(['tract','Year_permit','Year_permit_next_y']).sum().reset_index()\n"
   ]
  },
  {
   "cell_type": "code",
   "execution_count": 49,
   "metadata": {},
   "outputs": [],
   "source": [
    "df_mg_prev_year_2020 = df_all.merge(add_permit_tract[['tract','Year_permit_next_y','Permit_count']].drop_duplicates(),\n",
    "                               left_on=['full_tract','year.filed'],\n",
    "                               right_on=['tract','Year_permit_next_y'],how='left').rename(\n",
    "        columns = {'treatedDfAddress_y':'treatedDfAddress_permit','Permit_count':'Permit_count_prev_year'})"
   ]
  },
  {
   "cell_type": "code",
   "execution_count": 50,
   "metadata": {},
   "outputs": [],
   "source": [
    "df_mg_prev_year_2020 = df_mg_prev_year_2020.merge(add_permit_tract[['tract','Year_permit','Permit_count']].drop_duplicates(),\n",
    "                               left_on=['full_tract','year.filed'],\n",
    "                               right_on=['tract','Year_permit'],how='left').rename(\n",
    "        columns = {'treatedDfAddress_y':'treatedDfAddress_permit','Permit_count':'Permit_count_this_year'}\n",
    "        ).drop(columns = ['tract_y','tract_x','Year_permit_next_y','Year_permit'])"
   ]
  },
  {
   "cell_type": "code",
   "execution_count": 51,
   "metadata": {},
   "outputs": [
    {
     "data": {
      "text/plain": [
       "Index(['p.name', 'd.address', 'd.city', 'd.state', 'd.zip', 'case', 'court',\n",
       "       'date.filed', 'year.filed', 'month.filed', 'day.filed', 'p.x', 'p.y',\n",
       "       'p.namegroup', 'p.num', 'p.street', 'p.apt', 'p.address', 'p.city',\n",
       "       'p.state', 'p.zip', 'd.x', 'd.y', 'd.name', 'd.num', 'd.street',\n",
       "       'd.apt', 'judgement1', 'judgement2', 'judgement.amt', 'county',\n",
       "       'state_fips', 'd.white.perc', 'd.black.perc', 'd.hisp.perc',\n",
       "       'd.asian.perc', 'd.other.perc', 'p.clean.name', 'full_tract', 'd.x.1',\n",
       "       'd.y.1', 'optional', 'Permit_count_prev_year', 'tract',\n",
       "       'Permit_count_this_year'],\n",
       "      dtype='object')"
      ]
     },
     "execution_count": 51,
     "metadata": {},
     "output_type": "execute_result"
    }
   ],
   "source": [
    "df_mg_prev_year_2020.columns"
   ]
  },
  {
   "cell_type": "code",
   "execution_count": null,
   "metadata": {},
   "outputs": [],
   "source": []
  },
  {
   "cell_type": "code",
   "execution_count": 37,
   "metadata": {},
   "outputs": [],
   "source": [
    "df_all.tract = df_all.tract.astype(float)"
   ]
  },
  {
   "cell_type": "code",
   "execution_count": 39,
   "metadata": {},
   "outputs": [
    {
     "data": {
      "text/html": [
       "<div>\n",
       "<style scoped>\n",
       "    .dataframe tbody tr th:only-of-type {\n",
       "        vertical-align: middle;\n",
       "    }\n",
       "\n",
       "    .dataframe tbody tr th {\n",
       "        vertical-align: top;\n",
       "    }\n",
       "\n",
       "    .dataframe thead th {\n",
       "        text-align: right;\n",
       "    }\n",
       "</style>\n",
       "<table border=\"1\" class=\"dataframe\">\n",
       "  <thead>\n",
       "    <tr style=\"text-align: right;\">\n",
       "      <th></th>\n",
       "      <th>p.name</th>\n",
       "      <th>d.address</th>\n",
       "      <th>d.city</th>\n",
       "      <th>d.state</th>\n",
       "      <th>d.zip</th>\n",
       "      <th>case</th>\n",
       "      <th>court</th>\n",
       "      <th>date.filed</th>\n",
       "      <th>year.filed</th>\n",
       "      <th>month.filed</th>\n",
       "      <th>...</th>\n",
       "      <th>state_fips</th>\n",
       "      <th>d.white.perc</th>\n",
       "      <th>d.black.perc</th>\n",
       "      <th>d.hisp.perc</th>\n",
       "      <th>d.asian.perc</th>\n",
       "      <th>d.other.perc</th>\n",
       "      <th>p.clean.name</th>\n",
       "      <th>Address_merge</th>\n",
       "      <th>Year_permit_next_y</th>\n",
       "      <th>Permit_count</th>\n",
       "    </tr>\n",
       "  </thead>\n",
       "  <tbody>\n",
       "    <tr>\n",
       "      <th>0</th>\n",
       "      <td>7481.0</td>\n",
       "      <td>2321 beatrice street</td>\n",
       "      <td>dallas</td>\n",
       "      <td>TX</td>\n",
       "      <td>75208</td>\n",
       "      <td>1951829P</td>\n",
       "      <td>52</td>\n",
       "      <td>190506</td>\n",
       "      <td>19</td>\n",
       "      <td>5</td>\n",
       "      <td>...</td>\n",
       "      <td>48</td>\n",
       "      <td>0.154550</td>\n",
       "      <td>0.157473</td>\n",
       "      <td>0.622343</td>\n",
       "      <td>0.043234</td>\n",
       "      <td>0.022399</td>\n",
       "      <td>NaN</td>\n",
       "      <td>2321 beatrice street</td>\n",
       "      <td>NaN</td>\n",
       "      <td>NaN</td>\n",
       "    </tr>\n",
       "    <tr>\n",
       "      <th>1</th>\n",
       "      <td>7796.0</td>\n",
       "      <td>116 east mimosa lane</td>\n",
       "      <td>mesquite</td>\n",
       "      <td>TX</td>\n",
       "      <td>75149</td>\n",
       "      <td>1800587D</td>\n",
       "      <td>21</td>\n",
       "      <td>180409</td>\n",
       "      <td>18</td>\n",
       "      <td>4</td>\n",
       "      <td>...</td>\n",
       "      <td>48</td>\n",
       "      <td>0.544564</td>\n",
       "      <td>0.165324</td>\n",
       "      <td>0.084208</td>\n",
       "      <td>0.161289</td>\n",
       "      <td>0.044615</td>\n",
       "      <td>NaN</td>\n",
       "      <td>116 east mimosa lane</td>\n",
       "      <td>NaN</td>\n",
       "      <td>NaN</td>\n",
       "    </tr>\n",
       "    <tr>\n",
       "      <th>2</th>\n",
       "      <td>5309.0</td>\n",
       "      <td>1919 billie drive house</td>\n",
       "      <td>dallas</td>\n",
       "      <td>TX</td>\n",
       "      <td>75232</td>\n",
       "      <td>2050672P</td>\n",
       "      <td>52</td>\n",
       "      <td>200207</td>\n",
       "      <td>20</td>\n",
       "      <td>2</td>\n",
       "      <td>...</td>\n",
       "      <td>48</td>\n",
       "      <td>0.053344</td>\n",
       "      <td>0.889651</td>\n",
       "      <td>0.023956</td>\n",
       "      <td>0.003056</td>\n",
       "      <td>0.029993</td>\n",
       "      <td>NaN</td>\n",
       "      <td>1919 billie drive house</td>\n",
       "      <td>NaN</td>\n",
       "      <td>NaN</td>\n",
       "    </tr>\n",
       "    <tr>\n",
       "      <th>3</th>\n",
       "      <td>7239.0</td>\n",
       "      <td>1700 west polo road suite 114</td>\n",
       "      <td>grand prairie</td>\n",
       "      <td>TX</td>\n",
       "      <td>75052</td>\n",
       "      <td>1801436G</td>\n",
       "      <td>41</td>\n",
       "      <td>180612</td>\n",
       "      <td>18</td>\n",
       "      <td>6</td>\n",
       "      <td>...</td>\n",
       "      <td>48</td>\n",
       "      <td>0.529565</td>\n",
       "      <td>0.148213</td>\n",
       "      <td>0.101105</td>\n",
       "      <td>0.181662</td>\n",
       "      <td>0.039455</td>\n",
       "      <td>NaN</td>\n",
       "      <td>1700 west polo road suite</td>\n",
       "      <td>NaN</td>\n",
       "      <td>NaN</td>\n",
       "    </tr>\n",
       "    <tr>\n",
       "      <th>4</th>\n",
       "      <td>886.0</td>\n",
       "      <td>650 south walton walker boulevard</td>\n",
       "      <td>dallas</td>\n",
       "      <td>TX</td>\n",
       "      <td>75211</td>\n",
       "      <td>1850858P</td>\n",
       "      <td>52</td>\n",
       "      <td>180227</td>\n",
       "      <td>18</td>\n",
       "      <td>2</td>\n",
       "      <td>...</td>\n",
       "      <td>48</td>\n",
       "      <td>0.142224</td>\n",
       "      <td>0.292210</td>\n",
       "      <td>0.461607</td>\n",
       "      <td>0.074783</td>\n",
       "      <td>0.029175</td>\n",
       "      <td>NaN</td>\n",
       "      <td>650 south walton walker boulevard</td>\n",
       "      <td>NaN</td>\n",
       "      <td>NaN</td>\n",
       "    </tr>\n",
       "  </tbody>\n",
       "</table>\n",
       "<p>5 rows × 42 columns</p>\n",
       "</div>"
      ],
      "text/plain": [
       "   p.name                          d.address         d.city d.state  d.zip  \\\n",
       "0  7481.0               2321 beatrice street         dallas      TX  75208   \n",
       "1  7796.0               116 east mimosa lane       mesquite      TX  75149   \n",
       "2  5309.0            1919 billie drive house         dallas      TX  75232   \n",
       "3  7239.0      1700 west polo road suite 114  grand prairie      TX  75052   \n",
       "4   886.0  650 south walton walker boulevard         dallas      TX  75211   \n",
       "\n",
       "       case  court  date.filed  year.filed  month.filed  ...  state_fips  \\\n",
       "0  1951829P     52      190506          19            5  ...          48   \n",
       "1  1800587D     21      180409          18            4  ...          48   \n",
       "2  2050672P     52      200207          20            2  ...          48   \n",
       "3  1801436G     41      180612          18            6  ...          48   \n",
       "4  1850858P     52      180227          18            2  ...          48   \n",
       "\n",
       "   d.white.perc  d.black.perc d.hisp.perc  d.asian.perc d.other.perc  \\\n",
       "0      0.154550      0.157473    0.622343      0.043234     0.022399   \n",
       "1      0.544564      0.165324    0.084208      0.161289     0.044615   \n",
       "2      0.053344      0.889651    0.023956      0.003056     0.029993   \n",
       "3      0.529565      0.148213    0.101105      0.181662     0.039455   \n",
       "4      0.142224      0.292210    0.461607      0.074783     0.029175   \n",
       "\n",
       "  p.clean.name                      Address_merge Year_permit_next_y  \\\n",
       "0          NaN               2321 beatrice street                NaN   \n",
       "1          NaN               116 east mimosa lane                NaN   \n",
       "2          NaN            1919 billie drive house                NaN   \n",
       "3          NaN          1700 west polo road suite                NaN   \n",
       "4          NaN  650 south walton walker boulevard                NaN   \n",
       "\n",
       "  Permit_count  \n",
       "0          NaN  \n",
       "1          NaN  \n",
       "2          NaN  \n",
       "3          NaN  \n",
       "4          NaN  \n",
       "\n",
       "[5 rows x 42 columns]"
      ]
     },
     "execution_count": 39,
     "metadata": {},
     "output_type": "execute_result"
    }
   ],
   "source": [
    "df_mg_prev_year_2020.head()"
   ]
  },
  {
   "cell_type": "code",
   "execution_count": 209,
   "metadata": {},
   "outputs": [
    {
     "data": {
      "text/plain": [
       "0.00018789928598271326"
      ]
     },
     "execution_count": 209,
     "metadata": {},
     "output_type": "execute_result"
    }
   ],
   "source": [
    "1/total"
   ]
  },
  {
   "cell_type": "code",
   "execution_count": 116,
   "metadata": {},
   "outputs": [
    {
     "data": {
      "text/plain": [
       "0.3997056323195412"
      ]
     },
     "execution_count": 116,
     "metadata": {},
     "output_type": "execute_result"
    }
   ],
   "source": [
    "# df_mg[(df_mg.year_diff.isin([0,1]))&df_mg.treatedDfAddress_permit.notnull()].shape[0]/df_mg.shape[0]"
   ]
  },
  {
   "cell_type": "code",
   "execution_count": 117,
   "metadata": {},
   "outputs": [
    {
     "data": {
      "text/plain": [
       "0.237460824990801"
      ]
     },
     "execution_count": 117,
     "metadata": {},
     "output_type": "execute_result"
    }
   ],
   "source": [
    "df_mg[(df_mg.year_diff.isin([0]))&df_mg.treatedDfAddress_permit.notnull()].shape[0]/df_mg.shape[0]"
   ]
  },
  {
   "cell_type": "code",
   "execution_count": 118,
   "metadata": {},
   "outputs": [
    {
     "data": {
      "text/plain": [
       "0.1622448073287402"
      ]
     },
     "execution_count": 118,
     "metadata": {},
     "output_type": "execute_result"
    }
   ],
   "source": [
    "df_mg[(df_mg.year_diff.isin([1]))&df_mg.treatedDfAddress_permit.notnull()].shape[0]/df_mg.shape[0]"
   ]
  },
  {
   "cell_type": "code",
   "execution_count": 139,
   "metadata": {},
   "outputs": [
    {
     "data": {
      "text/plain": [
       "98933"
      ]
     },
     "execution_count": 139,
     "metadata": {},
     "output_type": "execute_result"
    }
   ],
   "source": [
    "df_mg.shape[0]"
   ]
  },
  {
   "cell_type": "code",
   "execution_count": 138,
   "metadata": {},
   "outputs": [
    {
     "data": {
      "text/plain": [
       "98933"
      ]
     },
     "execution_count": 138,
     "metadata": {},
     "output_type": "execute_result"
    }
   ],
   "source": [
    "df_all.shape[0]"
   ]
  },
  {
   "cell_type": "code",
   "execution_count": 102,
   "metadata": {},
   "outputs": [
    {
     "data": {
      "text/plain": [
       "0.24214758843068315"
      ]
     },
     "execution_count": 102,
     "metadata": {},
     "output_type": "execute_result"
    }
   ],
   "source": [
    "df_mg[(df_mg.Year_Filed == df_mg.Year_permit)&df_mg.treatedDfAddress_permit.notnull()].shape[0]/df_mg.shape[0]"
   ]
  },
  {
   "cell_type": "code",
   "execution_count": 84,
   "metadata": {},
   "outputs": [],
   "source": [
    "df_mg_matched = df_mg[df_mg.treatedDfAddress_permit.notnull()]"
   ]
  },
  {
   "cell_type": "code",
   "execution_count": 81,
   "metadata": {
    "collapsed": true
   },
   "outputs": [
    {
     "data": {
      "text/html": [
       "<div>\n",
       "<style scoped>\n",
       "    .dataframe tbody tr th:only-of-type {\n",
       "        vertical-align: middle;\n",
       "    }\n",
       "\n",
       "    .dataframe tbody tr th {\n",
       "        vertical-align: top;\n",
       "    }\n",
       "\n",
       "    .dataframe thead th {\n",
       "        text-align: right;\n",
       "    }\n",
       "</style>\n",
       "<table border=\"1\" class=\"dataframe\">\n",
       "  <thead>\n",
       "    <tr style=\"text-align: right;\">\n",
       "      <th></th>\n",
       "      <th>tract</th>\n",
       "      <th>Contractor</th>\n",
       "      <th>Y</th>\n",
       "      <th>Address</th>\n",
       "      <th>PermitYear</th>\n",
       "      <th>Zip_Code</th>\n",
       "      <th>PermitDate</th>\n",
       "      <th>Score</th>\n",
       "      <th>Status</th>\n",
       "      <th>Permit_Type</th>\n",
       "      <th>...</th>\n",
       "      <th>PermitNum</th>\n",
       "      <th>Area</th>\n",
       "      <th>Work_Description</th>\n",
       "      <th>X</th>\n",
       "      <th>Value</th>\n",
       "      <th>originalDfAddress</th>\n",
       "      <th>dfStreetNumber</th>\n",
       "      <th>dfStreetName</th>\n",
       "      <th>dfApartmentNumber</th>\n",
       "      <th>treatedDfAddress</th>\n",
       "    </tr>\n",
       "  </thead>\n",
       "  <tbody>\n",
       "    <tr>\n",
       "      <th>25547</th>\n",
       "      <td>4.811301e+10</td>\n",
       "      <td>PROFESSIONAL SIGN SYSTEMS CO INC dba ID SOLUTI...</td>\n",
       "      <td>7.011109e+06</td>\n",
       "      <td>10550 n central expy</td>\n",
       "      <td>2017</td>\n",
       "      <td>75231.0</td>\n",
       "      <td>2017/06/27 00:00:00</td>\n",
       "      <td>90.92</td>\n",
       "      <td>T</td>\n",
       "      <td>Electrical Sign (ES) New Construction</td>\n",
       "      <td>...</td>\n",
       "      <td>1706276015</td>\n",
       "      <td>9.0</td>\n",
       "      <td>ERECT ATTACHED SIGN</td>\n",
       "      <td>2.499674e+06</td>\n",
       "      <td>NaN</td>\n",
       "      <td>10550 north central expy</td>\n",
       "      <td>10550</td>\n",
       "      <td>north central expy</td>\n",
       "      <td>NaN</td>\n",
       "      <td>10550 north central expy</td>\n",
       "    </tr>\n",
       "    <tr>\n",
       "      <th>44245</th>\n",
       "      <td>4.811301e+10</td>\n",
       "      <td>CORNERSTON SECURITY (817) 521-0287 2100 N HWY ...</td>\n",
       "      <td>7.011109e+06</td>\n",
       "      <td>10550 n central expy</td>\n",
       "      <td>2017</td>\n",
       "      <td>75231.0</td>\n",
       "      <td>2017/04/05 00:00:00</td>\n",
       "      <td>90.92</td>\n",
       "      <td>T</td>\n",
       "      <td>Security System (SE) Multi Family  Alteration</td>\n",
       "      <td>...</td>\n",
       "      <td>1701061030</td>\n",
       "      <td>NaN</td>\n",
       "      <td>INSTALLATION OF SECURITY SYSTEM</td>\n",
       "      <td>2.499674e+06</td>\n",
       "      <td>60000.0</td>\n",
       "      <td>10550 north central expy</td>\n",
       "      <td>10550</td>\n",
       "      <td>north central expy</td>\n",
       "      <td>NaN</td>\n",
       "      <td>10550 north central expy</td>\n",
       "    </tr>\n",
       "    <tr>\n",
       "      <th>44827</th>\n",
       "      <td>4.811301e+10</td>\n",
       "      <td>CLP MANAGEMENT (214) 982-1690 5842 GROSSETO DR...</td>\n",
       "      <td>7.011109e+06</td>\n",
       "      <td>10550 n central expy</td>\n",
       "      <td>2017</td>\n",
       "      <td>75231.0</td>\n",
       "      <td>2017/04/06 00:00:00</td>\n",
       "      <td>90.92</td>\n",
       "      <td>T</td>\n",
       "      <td>Swimming Pool (SW) Multi Family  Renovation</td>\n",
       "      <td>...</td>\n",
       "      <td>1701131151</td>\n",
       "      <td>1870.0</td>\n",
       "      <td>INSTALL SWIMMING POOL, FOUNTAIN AND DECKING.</td>\n",
       "      <td>2.499674e+06</td>\n",
       "      <td>49000.0</td>\n",
       "      <td>10550 north central expy</td>\n",
       "      <td>10550</td>\n",
       "      <td>north central expy</td>\n",
       "      <td>NaN</td>\n",
       "      <td>10550 north central expy</td>\n",
       "    </tr>\n",
       "    <tr>\n",
       "      <th>82368</th>\n",
       "      <td>4.811301e+10</td>\n",
       "      <td>PLUMBING PLUS 1506 FM 985 , ENNIS, TX 75119 (2...</td>\n",
       "      <td>7.011109e+06</td>\n",
       "      <td>10550 n central expy</td>\n",
       "      <td>2018</td>\n",
       "      <td>75231.0</td>\n",
       "      <td>2018/09/18 00:00:00</td>\n",
       "      <td>90.92</td>\n",
       "      <td>T</td>\n",
       "      <td>Plumbing (PL) Multi Family  Alteration</td>\n",
       "      <td>...</td>\n",
       "      <td>1809181033</td>\n",
       "      <td>NaN</td>\n",
       "      <td>INSTALL WATER LINE FOR IRRIGATION METER</td>\n",
       "      <td>2.499674e+06</td>\n",
       "      <td>1000.0</td>\n",
       "      <td>10550 north central expy</td>\n",
       "      <td>10550</td>\n",
       "      <td>north central expy</td>\n",
       "      <td>NaN</td>\n",
       "      <td>10550 north central expy</td>\n",
       "    </tr>\n",
       "  </tbody>\n",
       "</table>\n",
       "<p>4 rows × 21 columns</p>\n",
       "</div>"
      ],
      "text/plain": [
       "              tract                                         Contractor  \\\n",
       "25547  4.811301e+10  PROFESSIONAL SIGN SYSTEMS CO INC dba ID SOLUTI...   \n",
       "44245  4.811301e+10  CORNERSTON SECURITY (817) 521-0287 2100 N HWY ...   \n",
       "44827  4.811301e+10  CLP MANAGEMENT (214) 982-1690 5842 GROSSETO DR...   \n",
       "82368  4.811301e+10  PLUMBING PLUS 1506 FM 985 , ENNIS, TX 75119 (2...   \n",
       "\n",
       "                  Y               Address  PermitYear  Zip_Code  \\\n",
       "25547  7.011109e+06  10550 n central expy        2017   75231.0   \n",
       "44245  7.011109e+06  10550 n central expy        2017   75231.0   \n",
       "44827  7.011109e+06  10550 n central expy        2017   75231.0   \n",
       "82368  7.011109e+06  10550 n central expy        2018   75231.0   \n",
       "\n",
       "                PermitDate  Score Status  \\\n",
       "25547  2017/06/27 00:00:00  90.92      T   \n",
       "44245  2017/04/05 00:00:00  90.92      T   \n",
       "44827  2017/04/06 00:00:00  90.92      T   \n",
       "82368  2018/09/18 00:00:00  90.92      T   \n",
       "\n",
       "                                         Permit_Type  ...   PermitNum    Area  \\\n",
       "25547          Electrical Sign (ES) New Construction  ...  1706276015     9.0   \n",
       "44245  Security System (SE) Multi Family  Alteration  ...  1701061030     NaN   \n",
       "44827    Swimming Pool (SW) Multi Family  Renovation  ...  1701131151  1870.0   \n",
       "82368         Plumbing (PL) Multi Family  Alteration  ...  1809181033     NaN   \n",
       "\n",
       "                                   Work_Description             X    Value  \\\n",
       "25547                           ERECT ATTACHED SIGN  2.499674e+06      NaN   \n",
       "44245               INSTALLATION OF SECURITY SYSTEM  2.499674e+06  60000.0   \n",
       "44827  INSTALL SWIMMING POOL, FOUNTAIN AND DECKING.  2.499674e+06  49000.0   \n",
       "82368       INSTALL WATER LINE FOR IRRIGATION METER  2.499674e+06   1000.0   \n",
       "\n",
       "              originalDfAddress dfStreetNumber        dfStreetName  \\\n",
       "25547  10550 north central expy          10550  north central expy   \n",
       "44245  10550 north central expy          10550  north central expy   \n",
       "44827  10550 north central expy          10550  north central expy   \n",
       "82368  10550 north central expy          10550  north central expy   \n",
       "\n",
       "      dfApartmentNumber          treatedDfAddress  \n",
       "25547               NaN  10550 north central expy  \n",
       "44245               NaN  10550 north central expy  \n",
       "44827               NaN  10550 north central expy  \n",
       "82368               NaN  10550 north central expy  \n",
       "\n",
       "[4 rows x 21 columns]"
      ]
     },
     "execution_count": 81,
     "metadata": {},
     "output_type": "execute_result"
    }
   ],
   "source": [
    "add_permit[add_permit.treatedDfAddress=='10550 north central expy']"
   ]
  },
  {
   "cell_type": "code",
   "execution_count": null,
   "metadata": {},
   "outputs": [],
   "source": []
  }
 ],
 "metadata": {
  "kernelspec": {
   "display_name": "Python 3",
   "language": "python",
   "name": "python3"
  },
  "language_info": {
   "codemirror_mode": {
    "name": "ipython",
    "version": 3
   },
   "file_extension": ".py",
   "mimetype": "text/x-python",
   "name": "python",
   "nbconvert_exporter": "python",
   "pygments_lexer": "ipython3",
   "version": "3.7.6"
  }
 },
 "nbformat": 4,
 "nbformat_minor": 4
}
